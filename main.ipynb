{
 "cells": [
  {
   "cell_type": "code",
   "execution_count": 1,
   "metadata": {},
   "outputs": [],
   "source": [
    "import requests\n",
    "from bs4 import BeautifulSoup"
   ]
  },
  {
   "cell_type": "code",
   "execution_count": 7,
   "metadata": {},
   "outputs": [],
   "source": [
    "job_title_list=[]\n",
    "company_name_list=[]\n",
    "html = requests.get('https://internshala.com/internships/engineering-internship/page-10').text\n",
    "soup = BeautifulSoup(html, 'html.parser')\n",
    "\n",
    "#get the job title\n",
    "for i in soup.find_all('h3', class_='heading_4_5 profile'):\n",
    "                job_title_list.append(i.text.strip())\n",
    "#get company name\n",
    "for i in soup.find_all('a', class_='link_display_like_text view_detail_button'):\n",
    "                company_name_list.append(i.text.strip())"
   ]
  },
  {
   "cell_type": "code",
   "execution_count": 8,
   "metadata": {},
   "outputs": [
    {
     "data": {
      "text/plain": [
       "0"
      ]
     },
     "execution_count": 8,
     "metadata": {},
     "output_type": "execute_result"
    }
   ],
   "source": [
    "#check empty values in company_name_list\n",
    "count=0\n",
    "for i in company_name_list:\n",
    "    if i == '':\n",
    "        count+=1\n",
    "\n",
    "count"
   ]
  },
  {
   "cell_type": "code",
   "execution_count": 9,
   "metadata": {},
   "outputs": [
    {
     "data": {
      "text/plain": [
       "['Node.js Development',\n",
       " 'Web Development (Wix)',\n",
       " 'Quality Analyst',\n",
       " 'Interior Design',\n",
       " 'Python Development',\n",
       " 'Information Security',\n",
       " 'Flutter & PHP Development',\n",
       " 'Product Management & Operations',\n",
       " 'Bioinformatics',\n",
       " 'Engineering Design',\n",
       " 'VLSI',\n",
       " 'Material Science',\n",
       " 'Content Development (Mathematics)',\n",
       " 'Web Development',\n",
       " 'Full Stack Development',\n",
       " 'Deep Learning',\n",
       " 'WordPress Development',\n",
       " 'WordPress Development',\n",
       " 'Apple Product Troubleshooting',\n",
       " 'Android App Development',\n",
       " 'Flutter Development',\n",
       " 'Python Development',\n",
       " 'Content Writing - Computer Science Research Articles',\n",
       " 'Ruby On Rails Development',\n",
       " 'Web Development',\n",
       " 'Web Development',\n",
       " 'PHP Development',\n",
       " '3D Art/Design',\n",
       " 'Flutter Development',\n",
       " 'Android App Development',\n",
       " 'Data Visualization',\n",
       " 'PHP - Laravel Development',\n",
       " 'Machine Learning',\n",
       " 'Flutter Development',\n",
       " 'Node.js Development',\n",
       " 'WordPress Design And Development',\n",
       " 'Flutter Development',\n",
       " 'Map Visualization',\n",
       " 'AI LLM ChatGPT Development',\n",
       " 'Tech Mentoring']"
      ]
     },
     "execution_count": 9,
     "metadata": {},
     "output_type": "execute_result"
    }
   ],
   "source": [
    "job_title_list"
   ]
  }
 ],
 "metadata": {
  "kernelspec": {
   "display_name": "Python 3",
   "language": "python",
   "name": "python3"
  },
  "language_info": {
   "codemirror_mode": {
    "name": "ipython",
    "version": 3
   },
   "file_extension": ".py",
   "mimetype": "text/x-python",
   "name": "python",
   "nbconvert_exporter": "python",
   "pygments_lexer": "ipython3",
   "version": "3.10.2"
  },
  "orig_nbformat": 4
 },
 "nbformat": 4,
 "nbformat_minor": 2
}
